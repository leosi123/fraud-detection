{
 "cells": [
  {
   "cell_type": "code",
   "execution_count": 1,
   "id": "57eb1b02",
   "metadata": {},
   "outputs": [],
   "source": [
    "import pandas as pd"
   ]
  },
  {
   "cell_type": "code",
   "execution_count": 2,
   "id": "ebad2945",
   "metadata": {},
   "outputs": [],
   "source": [
    "sample_sub = pd.read_csv('sample_submission.csv')\n",
    "train = pd.read_csv('train.csv')\n",
    "test = pd.read_csv('test.csv')"
   ]
  },
  {
   "cell_type": "code",
   "execution_count": 3,
   "id": "1fe8daab",
   "metadata": {},
   "outputs": [],
   "source": [
    "train_x = train.drop(['id','Class'],axis=1)\n",
    "train_y = train['Class']"
   ]
  },
  {
   "cell_type": "code",
   "execution_count": null,
   "id": "ed11eb15",
   "metadata": {},
   "outputs": [],
   "source": []
  },
  {
   "cell_type": "code",
   "execution_count": 45,
   "id": "2d9869dc",
   "metadata": {},
   "outputs": [],
   "source": [
    "import seaborn as sns"
   ]
  },
  {
   "cell_type": "code",
   "execution_count": 46,
   "id": "2248b9ca",
   "metadata": {},
   "outputs": [
    {
     "name": "stdout",
     "output_type": "stream",
     "text": [
      "<class 'pandas.core.frame.DataFrame'>\n",
      "RangeIndex: 219129 entries, 0 to 219128\n",
      "Data columns (total 32 columns):\n",
      " #   Column  Non-Null Count   Dtype  \n",
      "---  ------  --------------   -----  \n",
      " 0   id      219129 non-null  int64  \n",
      " 1   Time    219129 non-null  float64\n",
      " 2   V1      219129 non-null  float64\n",
      " 3   V2      219129 non-null  float64\n",
      " 4   V3      219129 non-null  float64\n",
      " 5   V4      219129 non-null  float64\n",
      " 6   V5      219129 non-null  float64\n",
      " 7   V6      219129 non-null  float64\n",
      " 8   V7      219129 non-null  float64\n",
      " 9   V8      219129 non-null  float64\n",
      " 10  V9      219129 non-null  float64\n",
      " 11  V10     219129 non-null  float64\n",
      " 12  V11     219129 non-null  float64\n",
      " 13  V12     219129 non-null  float64\n",
      " 14  V13     219129 non-null  float64\n",
      " 15  V14     219129 non-null  float64\n",
      " 16  V15     219129 non-null  float64\n",
      " 17  V16     219129 non-null  float64\n",
      " 18  V17     219129 non-null  float64\n",
      " 19  V18     219129 non-null  float64\n",
      " 20  V19     219129 non-null  float64\n",
      " 21  V20     219129 non-null  float64\n",
      " 22  V21     219129 non-null  float64\n",
      " 23  V22     219129 non-null  float64\n",
      " 24  V23     219129 non-null  float64\n",
      " 25  V24     219129 non-null  float64\n",
      " 26  V25     219129 non-null  float64\n",
      " 27  V26     219129 non-null  float64\n",
      " 28  V27     219129 non-null  float64\n",
      " 29  V28     219129 non-null  float64\n",
      " 30  Amount  219129 non-null  float64\n",
      " 31  Class   219129 non-null  int64  \n",
      "dtypes: float64(30), int64(2)\n",
      "memory usage: 53.5 MB\n"
     ]
    }
   ],
   "source": [
    "train.info()"
   ]
  },
  {
   "cell_type": "code",
   "execution_count": 47,
   "id": "5226d940",
   "metadata": {},
   "outputs": [
    {
     "data": {
      "text/plain": [
       "id        0\n",
       "Time      0\n",
       "V1        0\n",
       "V2        0\n",
       "V3        0\n",
       "V4        0\n",
       "V5        0\n",
       "V6        0\n",
       "V7        0\n",
       "V8        0\n",
       "V9        0\n",
       "V10       0\n",
       "V11       0\n",
       "V12       0\n",
       "V13       0\n",
       "V14       0\n",
       "V15       0\n",
       "V16       0\n",
       "V17       0\n",
       "V18       0\n",
       "V19       0\n",
       "V20       0\n",
       "V21       0\n",
       "V22       0\n",
       "V23       0\n",
       "V24       0\n",
       "V25       0\n",
       "V26       0\n",
       "V27       0\n",
       "V28       0\n",
       "Amount    0\n",
       "Class     0\n",
       "dtype: int64"
      ]
     },
     "execution_count": 47,
     "metadata": {},
     "output_type": "execute_result"
    }
   ],
   "source": [
    "train.isnull().sum()"
   ]
  },
  {
   "cell_type": "code",
   "execution_count": 48,
   "id": "c1c987b5",
   "metadata": {},
   "outputs": [
    {
     "name": "stderr",
     "output_type": "stream",
     "text": [
      "C:\\Users\\leosimoe\\Anaconda3\\lib\\site-packages\\seaborn\\_decorators.py:36: FutureWarning: Pass the following variable as a keyword arg: x. From version 0.12, the only valid positional argument will be `data`, and passing other arguments without an explicit keyword will result in an error or misinterpretation.\n",
      "  warnings.warn(\n"
     ]
    },
    {
     "data": {
      "text/plain": [
       "<AxesSubplot:xlabel='Class', ylabel='count'>"
      ]
     },
     "execution_count": 48,
     "metadata": {},
     "output_type": "execute_result"
    },
    {
     "data": {
      "image/png": "[encoded data removed]",
      "text/plain": [
       "<Figure size 432x288 with 1 Axes>"
      ]
     },
     "metadata": {
      "needs_background": "light"
     },
     "output_type": "display_data"
    }
   ],
   "source": [
    "sns.countplot(train['Class'])"
   ]
  },
  {
   "cell_type": "code",
   "execution_count": 49,
   "id": "4139cc8e",
   "metadata": {},
   "outputs": [
    {
     "data": {
      "text/plain": [
       "469"
      ]
     },
     "execution_count": 49,
     "metadata": {},
     "output_type": "execute_result"
    }
   ],
   "source": [
    "train.groupby('Class')['Class'].count()[1]"
   ]
  },
  {
   "cell_type": "code",
   "execution_count": 50,
   "id": "45fa69bf",
   "metadata": {},
   "outputs": [
    {
     "data": {
      "text/plain": [
       "32"
      ]
     },
     "execution_count": 50,
     "metadata": {},
     "output_type": "execute_result"
    }
   ],
   "source": [
    "train.columns.size"
   ]
  },
  {
   "cell_type": "code",
   "execution_count": 51,
   "id": "6ed99e31",
   "metadata": {},
   "outputs": [],
   "source": [
    "import matplotlib.pyplot as plt"
   ]
  },
  {
   "cell_type": "code",
   "execution_count": 52,
   "id": "217878fd",
   "metadata": {},
   "outputs": [],
   "source": [
    "fig_name= train.columns[0] + ' X ' + train.columns[1] + '.png'\n"
   ]
  },
  {
   "cell_type": "code",
   "execution_count": 73,
   "id": "5a5ef12c",
   "metadata": {},
   "outputs": [
    {
     "data": {
      "text/plain": [
       "<Figure size 842.4x595.44 with 0 Axes>"
      ]
     },
     "metadata": {},
     "output_type": "display_data"
    }
   ],
   "source": [
    "sns.set(rc={'figure.figsize':(11.7,8.27)})\n",
    "for i in range(1,train.columns.size):\n",
    "    for j in range(1,train.columns.size):\n",
    "        if i>j:\n",
    "            plt.clf()\n",
    "            fig_name= '.\\plots\\\\' + train.columns[i] + ' X ' + train.columns[j] + '.png'\n",
    "            sns.scatterplot(data=train, x=train.columns[i], y=train.columns[j],hue='Class')\n",
    "            plt.savefig(fig_name)\n",
    "            plt.clf()\n",
    "            \n",
    "    "
   ]
  },
  {
   "cell_type": "code",
   "execution_count": 71,
   "id": "a5492147",
   "metadata": {},
   "outputs": [],
   "source": [
    "train.sort_values('Class', ascending=True, inplace=True)"
   ]
  },
  {
   "cell_type": "code",
   "execution_count": 72,
   "id": "8fc5d80f",
   "metadata": {},
   "outputs": [
    {
     "data": {
      "text/plain": [
       "<AxesSubplot:xlabel='Amount', ylabel='V20'>"
      ]
     },
     "execution_count": 72,
     "metadata": {},
     "output_type": "execute_result"
    },
    {
     "data": {
      "image/png": "[encoded data removed]",
      "text/plain": [
       "<Figure size 842.4x595.44 with 1 Axes>"
      ]
     },
     "metadata": {},
     "output_type": "display_data"
    }
   ],
   "source": [
    "sns.scatterplot(data=train, x=train.columns[30], y=train.columns[21],hue='Class')"
   ]
  },
  {
   "cell_type": "code",
   "execution_count": null,
   "id": "d64d0ad8",
   "metadata": {},
   "outputs": [],
   "source": [
    "from sklearn.feature_selection import SelectKBest"
   ]
  },
  {
   "cell_type": "code",
   "execution_count": null,
   "id": "f3ef28a9",
   "metadata": {},
   "outputs": [],
   "source": [
    "test_feat = SelectKBest(k=10)\n",
    "fit = test_feat.fit(train_x,train_y)"
   ]
  },
  {
   "cell_type": "code",
   "execution_count": null,
   "id": "b67d34d7",
   "metadata": {},
   "outputs": [],
   "source": [
    "from numpy import set_printoptions\n",
    "set_printoptions(precision=3)\n",
    "print(fit.scores_)\n",
    "features = fit.transform(train_x)"
   ]
  },
  {
   "cell_type": "code",
   "execution_count": null,
   "id": "bfbc63d0",
   "metadata": {},
   "outputs": [],
   "source": [
    "train_kbest_col = train_x.columns[fit.get_support()]"
   ]
  },
  {
   "cell_type": "code",
   "execution_count": null,
   "id": "eeb4f4e2",
   "metadata": {},
   "outputs": [],
   "source": [
    "train_kbest_col"
   ]
  },
  {
   "cell_type": "code",
   "execution_count": null,
   "id": "c44399d0",
   "metadata": {},
   "outputs": [],
   "source": [
    "train_kbest = train.loc[:,train_kbest_col]"
   ]
  },
  {
   "cell_type": "code",
   "execution_count": 4,
   "id": "e3760a67",
   "metadata": {},
   "outputs": [],
   "source": [
    "fraud = train[train.Class==1]"
   ]
  },
  {
   "cell_type": "code",
   "execution_count": 5,
   "id": "2f5c8521",
   "metadata": {},
   "outputs": [
    {
     "name": "stderr",
     "output_type": "stream",
     "text": [
      "C:\\Users\\leosimoe\\Anaconda3\\lib\\site-packages\\scipy\\__init__.py:146: UserWarning: A NumPy version >=1.16.5 and <1.23.0 is required for this version of SciPy (detected version 1.23.5\n",
      "  warnings.warn(f\"A NumPy version >={np_minversion} and <{np_maxversion}\"\n"
     ]
    },
    {
     "name": "stdout",
     "output_type": "stream",
     "text": [
      "(469, 32)\n"
     ]
    }
   ],
   "source": [
    "from sklearn.utils import resample\n",
    "downsample = resample(train,\n",
    "             replace=True,\n",
    "             n_samples=469,\n",
    "             )\n",
    "\n",
    "print(downsample.shape)"
   ]
  },
  {
   "cell_type": "code",
   "execution_count": 6,
   "id": "fd0994ef",
   "metadata": {},
   "outputs": [
    {
     "data": {
      "text/plain": [
       "Class\n",
       "0    469\n",
       "Name: Class, dtype: int64"
      ]
     },
     "execution_count": 6,
     "metadata": {},
     "output_type": "execute_result"
    }
   ],
   "source": [
    "downsample.groupby('Class')['Class'].count()"
   ]
  },
  {
   "cell_type": "code",
   "execution_count": 7,
   "id": "b970b619",
   "metadata": {},
   "outputs": [],
   "source": [
    "balanced_train = pd.concat([downsample, fraud])"
   ]
  },
  {
   "cell_type": "code",
   "execution_count": 8,
   "id": "ed53421e",
   "metadata": {},
   "outputs": [],
   "source": [
    "balanced_train_x = balanced_train.drop(['id','Class'], axis=1)\n",
    "balanced_train_y = balanced_train.Class\n",
    "test_x = test.drop(['id'], axis=1)"
   ]
  },
  {
   "cell_type": "code",
   "execution_count": null,
   "id": "af8417d0",
   "metadata": {},
   "outputs": [],
   "source": [
    "test_x"
   ]
  },
  {
   "cell_type": "code",
   "execution_count": 40,
   "id": "0db3dcb2",
   "metadata": {},
   "outputs": [],
   "source": [
    "from sklearn.linear_model import LogisticRegression\n",
    "\n",
    "\n",
    "\n",
    "log = LogisticRegression(solver='liblinear').fit(X_train, balanced_train_y)\n",
    "log_pred = log.predict(X_test)"
   ]
  },
  {
   "cell_type": "code",
   "execution_count": 34,
   "id": "3539ad8f",
   "metadata": {},
   "outputs": [
    {
     "name": "stdout",
     "output_type": "stream",
     "text": [
      "              precision    recall  f1-score   support\n",
      "\n",
      "           0       0.71      0.80      0.75       469\n",
      "           1       0.77      0.67      0.72       469\n",
      "\n",
      "    accuracy                           0.73       938\n",
      "   macro avg       0.74      0.73      0.73       938\n",
      "weighted avg       0.74      0.73      0.73       938\n",
      "\n"
     ]
    }
   ],
   "source": [
    "from sklearn.metrics import classification_report\n",
    "print(classification_report(balanced_train_y, log_pred))"
   ]
  },
  {
   "cell_type": "code",
   "execution_count": 22,
   "id": "b50a06ef",
   "metadata": {},
   "outputs": [],
   "source": [
    "from sklearn.preprocessing import StandardScaler\n",
    "\n",
    "ss_train = StandardScaler()\n",
    "X_train = ss_train.fit_transform(balanced_train_x)\n",
    "\n",
    "ss_test = StandardScaler()\n",
    "X_test = ss_test.fit_transform(test_x)"
   ]
  },
  {
   "cell_type": "code",
   "execution_count": null,
   "id": "c2014e41",
   "metadata": {},
   "outputs": [],
   "source": [
    "# K-Nearest Neighbors\n",
    "from sklearn.neighbors import KNeighborsClassifier\n",
    "knn = KNeighborsClassifier()\n"
   ]
  },
  {
   "cell_type": "code",
   "execution_count": null,
   "id": "2913f929",
   "metadata": {},
   "outputs": [],
   "source": [
    "X_test.shape"
   ]
  },
  {
   "cell_type": "code",
   "execution_count": null,
   "id": "21083db5",
   "metadata": {},
   "outputs": [],
   "source": [
    "balanced_train_x"
   ]
  },
  {
   "cell_type": "code",
   "execution_count": null,
   "id": "8a89c6bc",
   "metadata": {},
   "outputs": [],
   "source": [
    "# Fit the classifier\n",
    "knn.fit(X_train, balanced_train_y)"
   ]
  },
  {
   "cell_type": "code",
   "execution_count": null,
   "id": "e9e5b8ce",
   "metadata": {},
   "outputs": [],
   "source": [
    "# Make predictions\n",
    "predictions = knn.predict(X_test)"
   ]
  },
  {
   "cell_type": "code",
   "execution_count": null,
   "id": "1d17fcec",
   "metadata": {},
   "outputs": [],
   "source": [
    "from sklearn.metrics import classification_report\n",
    "print(classification_report(balanced_train_y, predictions))"
   ]
  },
  {
   "cell_type": "code",
   "execution_count": null,
   "id": "1b77075d",
   "metadata": {},
   "outputs": [],
   "source": [
    "from sklearn.metrics import roc_auc_score\n",
    "roc_auc_score(balanced_train_y, predictions)"
   ]
  },
  {
   "cell_type": "code",
   "execution_count": null,
   "id": "f2965309",
   "metadata": {},
   "outputs": [],
   "source": [
    "from sklearn.model_selection import GridSearchCV\n",
    "#List Hyperparameters that we want to tune.\n",
    "leaf_size = list(range(1,50))\n",
    "n_neighbors = list(range(1,30))\n",
    "p=[1,2]\n",
    "#Convert to dictionary\n",
    "hyperparameters = dict(leaf_size=leaf_size, n_neighbors=n_neighbors, p=p)\n",
    "#Create new KNN object\n",
    "knn_2 = KNeighborsClassifier()\n",
    "#Use GridSearch\n",
    "clf = GridSearchCV(knn_2, hyperparameters, cv=3, verbose=4)\n",
    "#Fit the model\n",
    "best_model = clf.fit(balanced_train_x,balanced_train_y)\n",
    "#Print The value of best Hyperparameters\n",
    "print('Best leaf_size:', best_model.best_estimator_.get_params()['leaf_size'])\n",
    "print('Best p:', best_model.best_estimator_.get_params()['p'])\n",
    "print('Best n_neighbors:', best_model.best_estimator_.get_params()['n_neighbors'])\n"
   ]
  },
  {
   "cell_type": "code",
   "execution_count": null,
   "id": "9da51989",
   "metadata": {},
   "outputs": [],
   "source": [
    "knn3 = KNeighborsClassifier(leaf_size=1, p=2, n_neighbors=2)\n",
    "knn3.fit(balanced_train_x_kbest,balanced_train_y)"
   ]
  },
  {
   "cell_type": "code",
   "execution_count": null,
   "id": "811861a1",
   "metadata": {},
   "outputs": [],
   "source": [
    "X"
   ]
  },
  {
   "cell_type": "code",
   "execution_count": null,
   "id": "5d291901",
   "metadata": {},
   "outputs": [],
   "source": [
    "predictions = knn3.predict(X_train)"
   ]
  },
  {
   "cell_type": "code",
   "execution_count": null,
   "id": "937b090b",
   "metadata": {},
   "outputs": [],
   "source": [
    "from sklearn.metrics import classification_report\n",
    "print(classification_report(balanced_train_y, predictions))"
   ]
  },
  {
   "cell_type": "code",
   "execution_count": null,
   "id": "9bda9a06",
   "metadata": {},
   "outputs": [],
   "source": [
    "predictions.shape"
   ]
  },
  {
   "cell_type": "code",
   "execution_count": 41,
   "id": "4a303626",
   "metadata": {},
   "outputs": [],
   "source": [
    "test_sub = pd.DataFrame(log_pred, columns=['Class'])\n",
    "\n",
    "\n",
    "test_sub['id'] = test.id\n",
    "\n",
    "test_sub = test_sub[['id','Class']]\n",
    "\n",
    "test_sub.to_csv('test_sub_log_norm.csv', index=False)"
   ]
  },
  {
   "cell_type": "code",
   "execution_count": 39,
   "id": "f0281987",
   "metadata": {},
   "outputs": [
    {
     "data": {
      "text/html": [
       "<div>\n",
       "<style scoped>\n",
       "    .dataframe tbody tr th:only-of-type {\n",
       "        vertical-align: middle;\n",
       "    }\n",
       "\n",
       "    .dataframe tbody tr th {\n",
       "        vertical-align: top;\n",
       "    }\n",
       "\n",
       "    .dataframe thead th {\n",
       "        text-align: right;\n",
       "    }\n",
       "</style>\n",
       "<table border=\"1\" class=\"dataframe\">\n",
       "  <thead>\n",
       "    <tr style=\"text-align: right;\">\n",
       "      <th></th>\n",
       "      <th>id</th>\n",
       "      <th>Class</th>\n",
       "    </tr>\n",
       "  </thead>\n",
       "  <tbody>\n",
       "    <tr>\n",
       "      <th>0</th>\n",
       "      <td>219129</td>\n",
       "      <td>0</td>\n",
       "    </tr>\n",
       "    <tr>\n",
       "      <th>1</th>\n",
       "      <td>219130</td>\n",
       "      <td>0</td>\n",
       "    </tr>\n",
       "    <tr>\n",
       "      <th>2</th>\n",
       "      <td>219131</td>\n",
       "      <td>0</td>\n",
       "    </tr>\n",
       "    <tr>\n",
       "      <th>3</th>\n",
       "      <td>219132</td>\n",
       "      <td>0</td>\n",
       "    </tr>\n",
       "    <tr>\n",
       "      <th>4</th>\n",
       "      <td>219133</td>\n",
       "      <td>0</td>\n",
       "    </tr>\n",
       "    <tr>\n",
       "      <th>...</th>\n",
       "      <td>...</td>\n",
       "      <td>...</td>\n",
       "    </tr>\n",
       "    <tr>\n",
       "      <th>933</th>\n",
       "      <td>220062</td>\n",
       "      <td>0</td>\n",
       "    </tr>\n",
       "    <tr>\n",
       "      <th>934</th>\n",
       "      <td>220063</td>\n",
       "      <td>1</td>\n",
       "    </tr>\n",
       "    <tr>\n",
       "      <th>935</th>\n",
       "      <td>220064</td>\n",
       "      <td>1</td>\n",
       "    </tr>\n",
       "    <tr>\n",
       "      <th>936</th>\n",
       "      <td>220065</td>\n",
       "      <td>0</td>\n",
       "    </tr>\n",
       "    <tr>\n",
       "      <th>937</th>\n",
       "      <td>220066</td>\n",
       "      <td>1</td>\n",
       "    </tr>\n",
       "  </tbody>\n",
       "</table>\n",
       "<p>938 rows × 2 columns</p>\n",
       "</div>"
      ],
      "text/plain": [
       "         id  Class\n",
       "0    219129      0\n",
       "1    219130      0\n",
       "2    219131      0\n",
       "3    219132      0\n",
       "4    219133      0\n",
       "..      ...    ...\n",
       "933  220062      0\n",
       "934  220063      1\n",
       "935  220064      1\n",
       "936  220065      0\n",
       "937  220066      1\n",
       "\n",
       "[938 rows x 2 columns]"
      ]
     },
     "execution_count": 39,
     "metadata": {},
     "output_type": "execute_result"
    }
   ],
   "source": [
    "test_sub"
   ]
  },
  {
   "cell_type": "code",
   "execution_count": null,
   "id": "67c4b78e",
   "metadata": {},
   "outputs": [],
   "source": [
    "test_sub"
   ]
  },
  {
   "cell_type": "code",
   "execution_count": null,
   "id": "bf28078c",
   "metadata": {},
   "outputs": [],
   "source": []
  }
 ],
 "metadata": {
  "kernelspec": {
   "display_name": "Python 3 (ipykernel)",
   "language": "python",
   "name": "python3"
  },
  "language_info": {
   "codemirror_mode": {
    "name": "ipython",
    "version": 3
   },
   "file_extension": ".py",
   "mimetype": "text/x-python",
   "name": "python",
   "nbconvert_exporter": "python",
   "pygments_lexer": "ipython3",
   "version": "3.9.7"
  }
 },
 "nbformat": 4,
 "nbformat_minor": 5
}
