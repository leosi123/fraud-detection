{
 "cells": [
  {
   "cell_type": "code",
   "execution_count": 4,
   "id": "c1ef6825",
   "metadata": {},
   "outputs": [
    {
     "name": "stderr",
     "output_type": "stream",
     "text": [
      "C:\\Users\\leosimoe\\Anaconda3\\lib\\site-packages\\scipy\\__init__.py:146: UserWarning: A NumPy version >=1.16.5 and <1.23.0 is required for this version of SciPy (detected version 1.23.5\n",
      "  warnings.warn(f\"A NumPy version >={np_minversion} and <{np_maxversion}\"\n"
     ]
    }
   ],
   "source": [
    "import pandas as pd\n",
    "import seaborn as sns"
   ]
  },
  {
   "cell_type": "code",
   "execution_count": 5,
   "id": "6097b0d9",
   "metadata": {},
   "outputs": [],
   "source": [
    "sample_sub = pd.read_csv('sample_submission.csv')\n",
    "train = pd.read_csv('train.csv')\n",
    "test = pd.read_csv('test.csv')"
   ]
  },
  {
   "cell_type": "code",
   "execution_count": 6,
   "id": "19f3099e",
   "metadata": {},
   "outputs": [],
   "source": [
    "train_x = train.drop(['id','Class'],axis=1)\n",
    "train_y = train['Class']"
   ]
  },
  {
   "cell_type": "code",
   "execution_count": 7,
   "id": "1c20e96e",
   "metadata": {},
   "outputs": [
    {
     "name": "stderr",
     "output_type": "stream",
     "text": [
      "C:\\Users\\leosimoe\\Anaconda3\\lib\\site-packages\\seaborn\\_decorators.py:36: FutureWarning: Pass the following variable as a keyword arg: x. From version 0.12, the only valid positional argument will be `data`, and passing other arguments without an explicit keyword will result in an error or misinterpretation.\n",
      "  warnings.warn(\n"
     ]
    },
    {
     "data": {
      "text/plain": [
       "<AxesSubplot:xlabel='Class', ylabel='count'>"
      ]
     },
     "execution_count": 7,
     "metadata": {},
     "output_type": "execute_result"
    },
    {
     "data": {
      "image/png": "[encoded data removed]",
      "text/plain": [
       "<Figure size 432x288 with 1 Axes>"
      ]
     },
     "metadata": {
      "needs_background": "light"
     },
     "output_type": "display_data"
    }
   ],
   "source": [
    "sns.countplot(train['Class'])"
   ]
  },
  {
   "cell_type": "code",
   "execution_count": 8,
   "id": "ac4d6c47",
   "metadata": {},
   "outputs": [
    {
     "name": "stdout",
     "output_type": "stream",
     "text": [
      "(469, 32)\n"
     ]
    },
    {
     "data": {
      "text/plain": [
       "Class\n",
       "0    469\n",
       "Name: Class, dtype: int64"
      ]
     },
     "execution_count": 8,
     "metadata": {},
     "output_type": "execute_result"
    }
   ],
   "source": [
    "fraud = train[train.Class==1]\n",
    "from sklearn.utils import resample\n",
    "downsample = resample(train,\n",
    "             replace=True,\n",
    "             n_samples=469,\n",
    "             )\n",
    "\n",
    "print(downsample.shape)\n",
    "downsample.groupby('Class')['Class'].count()"
   ]
  },
  {
   "cell_type": "code",
   "execution_count": 10,
   "id": "ba422748",
   "metadata": {},
   "outputs": [],
   "source": [
    "balanced_train_down = pd.concat([downsample, fraud])\n"
   ]
  },
  {
   "cell_type": "code",
   "execution_count": 11,
   "id": "da51cdf7",
   "metadata": {},
   "outputs": [],
   "source": [
    "balanced_train_x = balanced_train_down.drop(['id','Class'], axis=1)\n",
    "balanced_train_y = balanced_train_down.Class\n",
    "test_x = test.drop(['id'], axis=1)"
   ]
  },
  {
   "cell_type": "code",
   "execution_count": 34,
   "id": "fe5c8293",
   "metadata": {},
   "outputs": [],
   "source": [
    "balanced_train_down_x = balanced_train_down.drop(['Class','id'],axis=1)"
   ]
  },
  {
   "cell_type": "code",
   "execution_count": 38,
   "id": "2700109c",
   "metadata": {},
   "outputs": [],
   "source": [
    "balanced_train_down_y=balanced_train_down.Class"
   ]
  },
  {
   "cell_type": "code",
   "execution_count": 44,
   "id": "6704c444",
   "metadata": {},
   "outputs": [],
   "source": [
    "from sklearn.linear_model import LogisticRegression\n",
    "from sklearn.model_selection import GridSearchCV\n",
    "\n",
    "log = LogisticRegression(solver='liblinear',C=0.08858667904100823, penalty='l1').fit(balanced_train_down_x, balanced_train_down_y)\n",
    "log_pred = log.predict(test_x)"
   ]
  },
  {
   "cell_type": "code",
   "execution_count": 42,
   "id": "93f7a378",
   "metadata": {},
   "outputs": [
    {
     "name": "stdout",
     "output_type": "stream",
     "text": [
      "              precision    recall  f1-score   support\n",
      "\n",
      "           0       1.00      0.80      0.89    218660\n",
      "           1       0.01      0.65      0.01       469\n",
      "\n",
      "    accuracy                           0.80    219129\n",
      "   macro avg       0.50      0.73      0.45    219129\n",
      "weighted avg       1.00      0.80      0.89    219129\n",
      "\n"
     ]
    }
   ],
   "source": [
    "from sklearn.metrics import classification_report\n",
    "print(classification_report(train_y, log_pred))"
   ]
  },
  {
   "cell_type": "code",
   "execution_count": 45,
   "id": "335b9266",
   "metadata": {},
   "outputs": [
    {
     "data": {
      "text/html": [
       "<div>\n",
       "<style scoped>\n",
       "    .dataframe tbody tr th:only-of-type {\n",
       "        vertical-align: middle;\n",
       "    }\n",
       "\n",
       "    .dataframe tbody tr th {\n",
       "        vertical-align: top;\n",
       "    }\n",
       "\n",
       "    .dataframe thead th {\n",
       "        text-align: right;\n",
       "    }\n",
       "</style>\n",
       "<table border=\"1\" class=\"dataframe\">\n",
       "  <thead>\n",
       "    <tr style=\"text-align: right;\">\n",
       "      <th></th>\n",
       "      <th>id</th>\n",
       "      <th>Class</th>\n",
       "    </tr>\n",
       "  </thead>\n",
       "  <tbody>\n",
       "    <tr>\n",
       "      <th>0</th>\n",
       "      <td>219129</td>\n",
       "      <td>0</td>\n",
       "    </tr>\n",
       "    <tr>\n",
       "      <th>1</th>\n",
       "      <td>219130</td>\n",
       "      <td>0</td>\n",
       "    </tr>\n",
       "    <tr>\n",
       "      <th>2</th>\n",
       "      <td>219131</td>\n",
       "      <td>0</td>\n",
       "    </tr>\n",
       "    <tr>\n",
       "      <th>3</th>\n",
       "      <td>219132</td>\n",
       "      <td>0</td>\n",
       "    </tr>\n",
       "    <tr>\n",
       "      <th>4</th>\n",
       "      <td>219133</td>\n",
       "      <td>0</td>\n",
       "    </tr>\n",
       "    <tr>\n",
       "      <th>...</th>\n",
       "      <td>...</td>\n",
       "      <td>...</td>\n",
       "    </tr>\n",
       "    <tr>\n",
       "      <th>146082</th>\n",
       "      <td>365211</td>\n",
       "      <td>0</td>\n",
       "    </tr>\n",
       "    <tr>\n",
       "      <th>146083</th>\n",
       "      <td>365212</td>\n",
       "      <td>0</td>\n",
       "    </tr>\n",
       "    <tr>\n",
       "      <th>146084</th>\n",
       "      <td>365213</td>\n",
       "      <td>0</td>\n",
       "    </tr>\n",
       "    <tr>\n",
       "      <th>146085</th>\n",
       "      <td>365214</td>\n",
       "      <td>0</td>\n",
       "    </tr>\n",
       "    <tr>\n",
       "      <th>146086</th>\n",
       "      <td>365215</td>\n",
       "      <td>0</td>\n",
       "    </tr>\n",
       "  </tbody>\n",
       "</table>\n",
       "<p>146087 rows × 2 columns</p>\n",
       "</div>"
      ],
      "text/plain": [
       "            id  Class\n",
       "0       219129      0\n",
       "1       219130      0\n",
       "2       219131      0\n",
       "3       219132      0\n",
       "4       219133      0\n",
       "...        ...    ...\n",
       "146082  365211      0\n",
       "146083  365212      0\n",
       "146084  365213      0\n",
       "146085  365214      0\n",
       "146086  365215      0\n",
       "\n",
       "[146087 rows x 2 columns]"
      ]
     },
     "execution_count": 45,
     "metadata": {},
     "output_type": "execute_result"
    }
   ],
   "source": [
    "test_sub = pd.DataFrame(log_pred, columns=['Class'])\n",
    "test_sub['id'] = test.id\n",
    "test_sub = test_sub[['id','Class']]\n",
    "test_sub"
   ]
  },
  {
   "cell_type": "code",
   "execution_count": 46,
   "id": "ce6b6978",
   "metadata": {},
   "outputs": [],
   "source": [
    "test_sub.to_csv('test_sub_log_liblinear_gs.csv', index=False)"
   ]
  },
  {
   "cell_type": "code",
   "execution_count": 23,
   "id": "a65498e9",
   "metadata": {},
   "outputs": [
    {
     "name": "stdout",
     "output_type": "stream",
     "text": [
      "Fitting 5 folds for each of 100 candidates, totalling 500 fits\n"
     ]
    },
    {
     "name": "stderr",
     "output_type": "stream",
     "text": [
      "C:\\Users\\leosimoe\\Anaconda3\\lib\\site-packages\\sklearn\\model_selection\\_search.py:922: UserWarning: One or more of the test scores are non-finite: [0.49572193 0.55864148 0.47967914 0.60558084 0.47647059 0.66949027\n",
      " 0.47434862 0.67162931 0.50424394 0.68018546 0.64290591 0.67379679\n",
      " 0.66954147 0.67804642 0.6855615  0.68549892 0.67380248 0.67269883\n",
      " 0.67162931 0.66949596 0.6652122  0.66097394 0.66734555 0.66203777\n",
      " 0.66841506 0.66310729 0.66947889 0.66203777 0.66947889 0.66310729\n",
      " 0.66841506 0.66096826 0.66841506 0.66310729 0.66947889 0.66310729\n",
      " 0.66840938 0.65989874 0.66734555 0.66310729 0.6077597  0.64502788\n",
      " 0.63224485 0.64608033 0.62801798 0.64294004 0.65036978 0.62796678\n",
      " 0.64609171 0.64289453 0.62472978 0.62156104 0.64824212 0.6450165\n",
      " 0.62475253 0.63328024 0.63118102 0.6343782  0.63861076 0.63330299\n",
      " 0.62901354 0.6301115  0.60350438 0.62903061 0.63434407 0.61303334\n",
      " 0.62369439 0.62054841 0.64401525 0.63118102 0.61413699 0.58957788\n",
      " 0.63759813 0.64077256 0.61832973 0.62905905 0.64076118 0.63115258\n",
      " 0.61730572 0.62369439 0.6225566  0.61941632 0.63434407 0.63003186\n",
      " 0.62685175 0.63436113 0.62900785 0.61518944 0.61514393 0.62157242\n",
      "        nan        nan        nan        nan        nan        nan\n",
      "        nan        nan        nan        nan]\n",
      "  warnings.warn(\n"
     ]
    }
   ],
   "source": [
    "from sklearn.ensemble import RandomForestClassifier\n",
    "from sklearn.pipeline import Pipeline\n",
    "import numpy as np\n",
    "\n",
    "\n",
    "pipe = Pipeline([('classifier' , RandomForestClassifier())])\n",
    "# pipe = Pipeline([('classifier', RandomForestClassifier())])\n",
    "\n",
    "# Create param grid.\n",
    "\n",
    "param_grid = [\n",
    "    {'classifier' : [LogisticRegression()],\n",
    "     'classifier__penalty' : ['l1', 'l2'],\n",
    "    'classifier__C' : np.logspace(-4, 4, 20),\n",
    "    'classifier__solver' : ['liblinear']},\n",
    "    {'classifier' : [RandomForestClassifier()],\n",
    "    'classifier__n_estimators' : list(range(10,101,10)),\n",
    "    'classifier__max_features' : list(range(6,32,5))}\n",
    "]\n",
    "\n",
    "# Create grid search object\n",
    "\n",
    "clf = GridSearchCV(pipe, param_grid = param_grid, cv = 5, verbose=True, n_jobs=-1)\n",
    "\n",
    "# Fit on data\n",
    "\n",
    "best_clf = clf.fit(balanced_train_x, balanced_train_y)"
   ]
  },
  {
   "cell_type": "code",
   "execution_count": 31,
   "id": "92b1fdfa",
   "metadata": {},
   "outputs": [
    {
     "data": {
      "text/plain": [
       "{'classifier': LogisticRegression(C=0.08858667904100823, penalty='l1', solver='liblinear'),\n",
       " 'classifier__C': 0.08858667904100823,\n",
       " 'classifier__penalty': 'l1',\n",
       " 'classifier__solver': 'liblinear'}"
      ]
     },
     "execution_count": 31,
     "metadata": {},
     "output_type": "execute_result"
    }
   ],
   "source": [
    "best_clf.best_params_"
   ]
  },
  {
   "cell_type": "code",
   "execution_count": 26,
   "id": "b41d8233",
   "metadata": {},
   "outputs": [
    {
     "data": {
      "text/plain": [
       "185397    0\n",
       "189387    0\n",
       "150459    0\n",
       "132307    0\n",
       "135625    0\n",
       "         ..\n",
       "218320    1\n",
       "218396    1\n",
       "218404    1\n",
       "218937    1\n",
       "219086    1\n",
       "Name: Class, Length: 938, dtype: int64"
      ]
     },
     "execution_count": 26,
     "metadata": {},
     "output_type": "execute_result"
    }
   ],
   "source": [
    "LogisticRegression()"
   ]
  },
  {
   "cell_type": "code",
   "execution_count": null,
   "id": "4d62e3a2",
   "metadata": {},
   "outputs": [],
   "source": []
  }
 ],
 "metadata": {
  "kernelspec": {
   "display_name": "Python 3 (ipykernel)",
   "language": "python",
   "name": "python3"
  },
  "language_info": {
   "codemirror_mode": {
    "name": "ipython",
    "version": 3
   },
   "file_extension": ".py",
   "mimetype": "text/x-python",
   "name": "python",
   "nbconvert_exporter": "python",
   "pygments_lexer": "ipython3",
   "version": "3.9.7"
  }
 },
 "nbformat": 4,
 "nbformat_minor": 5
}
